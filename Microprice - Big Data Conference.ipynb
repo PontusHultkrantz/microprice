{
 "cells": [
  {
   "cell_type": "markdown",
   "metadata": {
    "collapsed": true,
    "slideshow": {
     "slide_type": "slide"
    }
   },
   "source": [
    "# The microprice\n",
    "\n",
    "An estimator of the fair price, given the state of the order book\n",
    "\n",
    "KISS\n",
    "\n",
    "https://papers.ssrn.com/sol3/papers.cfm?abstract_id=2970694"
   ]
  },
  {
   "cell_type": "markdown",
   "metadata": {
    "slideshow": {
     "slide_type": "subslide"
    }
   },
   "source": [
    "# Big question:\n",
    "\n",
    "What is the fair price, given the bid/ask prices and sizes?\n",
    "\n",
    "We will call this notion of fair price the microprice.\n",
    "\n",
    "This notion can be useful to algorithmic traders, HFT, market makers, etc..."
   ]
  },
  {
   "cell_type": "markdown",
   "metadata": {
    "slideshow": {
     "slide_type": "subslide"
    }
   },
   "source": [
    "# Definitions\n",
    "\n",
    "The bid, ask, bid size, ask size: $P^b, P^a, Q^b, Q^a$\n",
    "\n",
    "The mid-price: $$M=\\frac{P^b+P^a}{2}$$\n",
    "\n",
    "The weighted mid-price: $$M=P^b (1-I) +P^a I$$\n",
    "\n",
    "The imbalance: $$I=\\frac{Q_b}{Q_b+Q_a}$$\n",
    "\n",
    "The bid-ask spread: $$S=(P^a-P^b)$$"
   ]
  },
  {
   "cell_type": "code",
   "execution_count": 1,
   "metadata": {
    "slideshow": {
     "slide_type": "subslide"
    }
   },
   "outputs": [],
   "source": [
    "import pandas as pd\n",
    "import numpy as np\n",
    "%matplotlib inline"
   ]
  },
  {
   "cell_type": "code",
   "execution_count": 2,
   "metadata": {},
   "outputs": [],
   "source": [
    "def get_df(ticker):\n",
    "    file1='%s_20110301_20110331.csv'%str(ticker)\n",
    "    df=pd.read_csv(file1)\n",
    "    df.columns = ['date','time','bid','bs','ask','as']\n",
    "    df = df.dropna()\n",
    "    df['date']=df['date'].astype(float)\n",
    "    df['time']=df['time'].astype(float)\n",
    "    df['bid']=df['bid'].astype(float)\n",
    "    df['ask']=df['ask'].astype(float)\n",
    "    df['bs']=df['bs'].astype(float)\n",
    "    df['as']=df['as'].astype(float)\n",
    "    df['mid']=(df['bid'].astype(float)+df['ask'].astype(float))/2\n",
    "    df['imb']=df['bs'].astype(float)/(df['bs'].astype(float)+df['as'].astype(float))\n",
    "    df['wmid']=df['ask'].astype(float)*df['imb']+df['bid'].astype(float)*(1-df['imb'])\n",
    "    return df"
   ]
  },
  {
   "cell_type": "code",
   "execution_count": 3,
   "metadata": {
    "slideshow": {
     "slide_type": "subslide"
    }
   },
   "outputs": [
    {
     "data": {
      "text/html": [
       "<div>\n",
       "<style scoped>\n",
       "    .dataframe tbody tr th:only-of-type {\n",
       "        vertical-align: middle;\n",
       "    }\n",
       "\n",
       "    .dataframe tbody tr th {\n",
       "        vertical-align: top;\n",
       "    }\n",
       "\n",
       "    .dataframe thead th {\n",
       "        text-align: right;\n",
       "    }\n",
       "</style>\n",
       "<table border=\"1\" class=\"dataframe\">\n",
       "  <thead>\n",
       "    <tr style=\"text-align: right;\">\n",
       "      <th></th>\n",
       "      <th>date</th>\n",
       "      <th>time</th>\n",
       "      <th>bid</th>\n",
       "      <th>bs</th>\n",
       "      <th>ask</th>\n",
       "      <th>as</th>\n",
       "      <th>mid</th>\n",
       "      <th>imb</th>\n",
       "      <th>wmid</th>\n",
       "    </tr>\n",
       "  </thead>\n",
       "  <tbody>\n",
       "    <tr>\n",
       "      <th>0</th>\n",
       "      <td>40603.0</td>\n",
       "      <td>34222.0</td>\n",
       "      <td>14.33</td>\n",
       "      <td>20.0</td>\n",
       "      <td>14.34</td>\n",
       "      <td>471.0</td>\n",
       "      <td>14.335</td>\n",
       "      <td>0.040733</td>\n",
       "      <td>14.330407</td>\n",
       "    </tr>\n",
       "    <tr>\n",
       "      <th>1</th>\n",
       "      <td>40603.0</td>\n",
       "      <td>34223.0</td>\n",
       "      <td>14.33</td>\n",
       "      <td>25.0</td>\n",
       "      <td>14.34</td>\n",
       "      <td>148.0</td>\n",
       "      <td>14.335</td>\n",
       "      <td>0.144509</td>\n",
       "      <td>14.331445</td>\n",
       "    </tr>\n",
       "    <tr>\n",
       "      <th>2</th>\n",
       "      <td>40603.0</td>\n",
       "      <td>34224.0</td>\n",
       "      <td>14.33</td>\n",
       "      <td>31.0</td>\n",
       "      <td>14.34</td>\n",
       "      <td>95.0</td>\n",
       "      <td>14.335</td>\n",
       "      <td>0.246032</td>\n",
       "      <td>14.332460</td>\n",
       "    </tr>\n",
       "    <tr>\n",
       "      <th>3</th>\n",
       "      <td>40603.0</td>\n",
       "      <td>34225.0</td>\n",
       "      <td>14.33</td>\n",
       "      <td>29.0</td>\n",
       "      <td>14.34</td>\n",
       "      <td>92.0</td>\n",
       "      <td>14.335</td>\n",
       "      <td>0.239669</td>\n",
       "      <td>14.332397</td>\n",
       "    </tr>\n",
       "    <tr>\n",
       "      <th>4</th>\n",
       "      <td>40603.0</td>\n",
       "      <td>34226.0</td>\n",
       "      <td>14.33</td>\n",
       "      <td>21.0</td>\n",
       "      <td>14.34</td>\n",
       "      <td>65.0</td>\n",
       "      <td>14.335</td>\n",
       "      <td>0.244186</td>\n",
       "      <td>14.332442</td>\n",
       "    </tr>\n",
       "  </tbody>\n",
       "</table>\n",
       "</div>"
      ],
      "text/plain": [
       "      date     time    bid    bs    ask     as     mid       imb       wmid\n",
       "0  40603.0  34222.0  14.33  20.0  14.34  471.0  14.335  0.040733  14.330407\n",
       "1  40603.0  34223.0  14.33  25.0  14.34  148.0  14.335  0.144509  14.331445\n",
       "2  40603.0  34224.0  14.33  31.0  14.34   95.0  14.335  0.246032  14.332460\n",
       "3  40603.0  34225.0  14.33  29.0  14.34   92.0  14.335  0.239669  14.332397\n",
       "4  40603.0  34226.0  14.33  21.0  14.34   65.0  14.335  0.244186  14.332442"
      ]
     },
     "execution_count": 3,
     "metadata": {},
     "output_type": "execute_result"
    }
   ],
   "source": [
    "data=get_df('BAC')[0:100]\n",
    "data.head()"
   ]
  },
  {
   "cell_type": "code",
   "execution_count": 4,
   "metadata": {
    "slideshow": {
     "slide_type": "subslide"
    }
   },
   "outputs": [
    {
     "data": {
      "text/plain": [
       "<matplotlib.axes._subplots.AxesSubplot at 0x24049368448>"
      ]
     },
     "execution_count": 4,
     "metadata": {},
     "output_type": "execute_result"
    },
    {
     "data": {
      "image/png": "[encoded data removed]",
      "text/plain": [
       "<Figure size 432x288 with 1 Axes>"
      ]
     },
     "metadata": {
      "needs_background": "light"
     },
     "output_type": "display_data"
    }
   ],
   "source": [
    "data[['bid','ask','mid','wmid']].plot()"
   ]
  },
  {
   "cell_type": "markdown",
   "metadata": {
    "slideshow": {
     "slide_type": "subslide"
    }
   },
   "source": [
    "# The mid vs. the weighted mid\n",
    "\n",
    "The mid-price:\n",
    "- Not a martingale (Bid-ask bounce)\n",
    "- Medium frequency signal \n",
    "- Doesn't use volume at the best bid and ask prices. \n",
    "\n",
    "The weighted mid-price:\n",
    "- Uses the volume at the best bid and ask prices.\n",
    "- High frequency signal\n",
    "- Is quite noisy, particularly when the spread widens to two ticks\n"
   ]
  },
  {
   "cell_type": "markdown",
   "metadata": {
    "slideshow": {
     "slide_type": "subslide"
    }
   },
   "source": [
    "# Desirable features of the Micro-Price\n",
    "\n",
    " $P_t^{micro}=F(M_t,I_t,S_t) = M_t+ G(I_t,S_t)$ \n",
    "- Martingale\n",
    "- Computationally fast\n",
    "- Better short term price predictions than the midprice or weighted midprice\n",
    "- Should work for large tick stocks (like BAC) or small tick stocks (like CVX)"
   ]
  },
  {
   "cell_type": "markdown",
   "metadata": {
    "slideshow": {
     "slide_type": "subslide"
    }
   },
   "source": [
    "# Outline\n",
    "\n",
    "1. General definition\n",
    "2. A discrete Markov model\n",
    "3. Data analysis\n",
    "4. Conclusion"
   ]
  },
  {
   "cell_type": "markdown",
   "metadata": {
    "slideshow": {
     "slide_type": "slide"
    }
   },
   "source": [
    "# Micro-price definition\n",
    "\n",
    "Define\n",
    "\\begin{equation*}\n",
    "P_t^{micro}=\\lim_{n\\to\\infty} P_t^n\n",
    "\\end{equation*}\n",
    "where the approximating sequence of martingale prices is given by\n",
    "$$P^n_t=\\mathbb{E} \\left[  M_{\\tau_n} |  I_t,S_t \\right] $$\n",
    "\n",
    "$\\tau_1,...,\\tau_n$ are (random) times when the mid-price $M_t$ changes\n",
    " \n",
    "The micro-price is the expected mid-price in the distant future\n",
    " \n",
    "In practice, the distant future is well captured by $P_t^6$, the expected mid price after 6 price moves."
   ]
  },
  {
   "cell_type": "markdown",
   "metadata": {
    "slideshow": {
     "slide_type": "subslide"
    }
   },
   "source": [
    "# Main result\n",
    "\n",
    "\n",
    "The $i$-th approximation to the micro-price can be written as\n",
    "\\begin{equation*}\n",
    "P_t^{n} =  M_t + \\sum_{k=1}^{n}g^k(I_t,S_t) \n",
    "\\end{equation*}\n",
    "where\n",
    "$$g^1(I_t,S_t)= \\mathbb{E}  \\left[  M_{\\tau_1} - M_t  | I_t, S_t \\right] $$\n",
    "and\n",
    "$$\n",
    "g^{n+1}(I_t,S_t)= \\mathbb{E}\\left[ g^n(I_{\\tau_{1}},S_{\\tau_{1}}) | I_{t},S_t\\right], \\forall j\\geq 0\n",
    "$$\n",
    "can be computed recursively."
   ]
  },
  {
   "cell_type": "markdown",
   "metadata": {
    "slideshow": {
     "slide_type": "slide"
    }
   },
   "source": [
    "# Finite state Markov chain\n",
    "\n",
    "- The imbalance takes discrete values $1\\leq i_I \\leq n$, \n",
    "- The spread takes discrete values $1\\leq i_S \\leq m$\n",
    "- The mid-price changes takes values in $K =[-0.01 \\quad -0.005 \\quad 0.005 \\quad 0.01]$. \n",
    "- Define the state $X_t=(I_t,S_t)$ with discrete values $1\\leq i \\leq nm$"
   ]
  },
  {
   "cell_type": "markdown",
   "metadata": {
    "slideshow": {
     "slide_type": "subslide"
    }
   },
   "source": [
    "# Computing $g^1$\n",
    "\n",
    "The first step approximation to the micro-price \n",
    "\\begin{align*}\n",
    "g^1(i) = &  \\mathbb{E} \\left[M_{\\tau_{1}}- M_{t} | X_t= i \\right] \\\\\n",
    "= {}& \\big(1-Q\\big)^{-1}R^1\\underline{k}\n",
    "\\end{align*}\n",
    "\n",
    "Where\n",
    "$$Q_{ij} := \\mathbb{P}(M_{t+1}- M_t =0 \\wedge X_{t+1}=j | X_t= i)$$\n",
    "are the transition probabilities for transient states (mid price does not move) \n",
    "\n",
    "$$R^1_{ik} := \\mathbb{P}(M_{t+1}- M_t =k | X_t = i)$$ are the transition probabilities into absorbing states (mid price does move) \n",
    "\n",
    "and $\\underline{k}=[-0.01 \\quad -0.005 \\quad 0.005 \\quad 0.01]^T$ "
   ]
  },
  {
   "cell_type": "markdown",
   "metadata": {
    "slideshow": {
     "slide_type": "subslide"
    }
   },
   "source": [
    "# Computing $g^{i+1}$\n",
    "\n",
    "\n",
    "We can compute recursively\n",
    "\\begin{align*}\n",
    "g^{n+1}=  B g^n\n",
    "\\end{align*}\n",
    "where $B:=\\big(1-Q\\big)^{-1}R^2$\n",
    "\n",
    "and $R^2$ is a new matrix of absorbing states\n",
    "\\begin{align*}\n",
    "R^2_{ik} := {}& \\mathbb{P}(M_{t+1}- M_t \\neq 0 \\wedge I_{t+1}=k  | I_t = i)\n",
    "\\end{align*}"
   ]
  },
  {
   "cell_type": "markdown",
   "metadata": {
    "slideshow": {
     "slide_type": "subslide"
    }
   },
   "source": [
    "# Does the micro-price converge?\n",
    "\n",
    "Yes. But we have to appropriately symmetrize the data.\n",
    "\n",
    "Technical conditions are available in the paper."
   ]
  },
  {
   "cell_type": "markdown",
   "metadata": {
    "slideshow": {
     "slide_type": "slide"
    }
   },
   "source": [
    "# Data analysis on BAC and CVX"
   ]
  },
  {
   "cell_type": "markdown",
   "metadata": {
    "slideshow": {
     "slide_type": "subslide"
    }
   },
   "source": [
    "# Estimation\n",
    "\n",
    "1. On every quote, compute $I_t, S_t, (M_{t+1}-M_t)$, after having discretized the state space\n",
    "2. Symmetrize the data, by making a copy where $I^2_t=n-I_t, S^2_t=S_t, (M^2_{t+1}-M^2_t)=-(M_{t+1}-M_t)$\n",
    "3. Estimate transition probability matrices $Q, R^1, R^2$\n"
   ]
  },
  {
   "cell_type": "markdown",
   "metadata": {
    "slideshow": {
     "slide_type": "subslide"
    }
   },
   "source": [
    "# Computation\n",
    "\n",
    "Compute the first micro-price adjustment:\n",
    "$$p^{1}-M = g^1 = \\big(1-Q\\big)^{-1}R^1\\underline{k}$$\n",
    "Use our recursive formula to compute the 6th micro-price adjustment:\n",
    "$$p^{6}-M = g^1+g^2+ \\ldots +g^6 = g^1 + B g^1 + \\ldots + B^5 g^1 $$\n",
    "In practice this converges after 6 price moves"
   ]
  },
  {
   "cell_type": "code",
   "execution_count": 5,
   "metadata": {},
   "outputs": [],
   "source": [
    "from scipy.linalg import block_diag\n",
    "import matplotlib.pyplot as plt"
   ]
  },
  {
   "cell_type": "code",
   "execution_count": 6,
   "metadata": {
    "slideshow": {
     "slide_type": "subslide"
    }
   },
   "outputs": [],
   "source": [
    "def prep_data_sym(T,n_imb,dt,n_spread):\n",
    "    spread=T.ask-T.bid\n",
    "    ticksize=np.round(min(spread.loc[spread>0])*100)/100\n",
    "    T['spread']=T.ask-T.bid\n",
    "    # adds the spread and mid prices\n",
    "    T['spread']=np.round((T['ask']-T['bid'])/ticksize)*ticksize\n",
    "    T['mid']=(T['bid']+T['ask'])/2\n",
    "    #filter out spreads >= n_spread\n",
    "    T = T.loc[(T['spread'] <= n_spread*ticksize) & (T['spread']>0)]\n",
    "    T['imb']=T['bs']/(T['bs']+T['as'])\n",
    "    #discretize imbalance into percentiles\n",
    "    T['imb_bucket'] = pd.qcut(T['imb'], n_imb, labels=False)\n",
    "    T['next_mid']=T['mid'].shift(-dt)\n",
    "    #step ahead state variables\n",
    "    T['next_spread']=T['spread'].shift(-dt)\n",
    "    T['next_time']=T['time'].shift(-dt)\n",
    "    T['next_imb_bucket']=T['imb_bucket'].shift(-dt)\n",
    "    # step ahead change in price\n",
    "    T['dM']=np.round((T['next_mid']-T['mid'])/ticksize*2)*ticksize/2\n",
    "    T = T.loc[(T.dM <= ticksize*1.1) & (T.dM>=-ticksize*1.1)]\n",
    "    # symetrize data\n",
    "    T2 = T.copy(deep=True)\n",
    "    T2['imb_bucket']=n_imb-1-T2['imb_bucket']\n",
    "    T2['next_imb_bucket']=n_imb-1-T2['next_imb_bucket']\n",
    "    T2['dM']=-T2['dM']\n",
    "    T2['mid']=-T2['mid']\n",
    "    T3=pd.concat([T,T2])\n",
    "    T3.index = pd.RangeIndex(len(T3.index)) \n",
    "    return T3,ticksize"
   ]
  },
  {
   "cell_type": "code",
   "execution_count": 7,
   "metadata": {
    "slideshow": {
     "slide_type": "subslide"
    }
   },
   "outputs": [],
   "source": [
    "def estimate(T):\n",
    "    no_move=T[T['dM']==0]\n",
    "    no_move_counts=no_move.pivot_table(index=[ 'next_imb_bucket'], \n",
    "                     columns=['spread', 'imb_bucket'], \n",
    "                     values='time',\n",
    "                     fill_value=0, \n",
    "                     aggfunc='count').unstack()\n",
    "    Q_counts=np.resize(np.array(no_move_counts[0:(n_imb*n_imb)]),(n_imb,n_imb))\n",
    "    # loop over all spreads and add block matrices\n",
    "    for i in range(1,n_spread):\n",
    "        Qi=np.resize(np.array(no_move_counts[(i*n_imb*n_imb):(i+1)*(n_imb*n_imb)]),(n_imb,n_imb))\n",
    "        Q_counts=block_diag(Q_counts,Qi)\n",
    "    #print Q_counts\n",
    "    move_counts=T[(T['dM']!=0)].pivot_table(index=['dM'], \n",
    "                         columns=['spread', 'imb_bucket'], \n",
    "                         values='time',\n",
    "                         fill_value=0, \n",
    "                         aggfunc='count').unstack()\n",
    "\n",
    "    R_counts=np.resize(np.array(move_counts),(n_imb*n_spread,4))\n",
    "    T1=np.concatenate((Q_counts,R_counts),axis=1).astype(float)\n",
    "    for i in range(0,n_imb*n_spread):\n",
    "        T1[i]=T1[i]/T1[i].sum()\n",
    "    Q=T1[:,0:(n_imb*n_spread)]\n",
    "    R1=T1[:,(n_imb*n_spread):]\n",
    "\n",
    "    K=np.array([-0.01, -0.005, 0.005, 0.01])\n",
    "    move_counts=T[(T['dM']!=0)].pivot_table(index=['spread','imb_bucket'], \n",
    "                     columns=['next_spread', 'next_imb_bucket'], \n",
    "                     values='time',\n",
    "                     fill_value=0, \n",
    "                     aggfunc='count') #.unstack()\n",
    "\n",
    "    R2_counts=np.resize(np.array(move_counts),(n_imb*n_spread,n_imb*n_spread))\n",
    "    T2=np.concatenate((Q_counts,R2_counts),axis=1).astype(float)\n",
    "\n",
    "    for i in range(0,n_imb*n_spread):\n",
    "        T2[i]=T2[i]/T2[i].sum()\n",
    "    R2=T2[:,(n_imb*n_spread):]\n",
    "    Q2=T2[:,0:(n_imb*n_spread)]\n",
    "    G1=np.dot(np.dot(np.linalg.inv(np.eye(n_imb*n_spread)-Q),R1),K)\n",
    "    B=np.dot(np.linalg.inv(np.eye(n_imb*n_spread)-Q),R2)\n",
    "    \n",
    "    return G1,B,Q,Q2,R1,R2,K"
   ]
  },
  {
   "cell_type": "code",
   "execution_count": 8,
   "metadata": {
    "slideshow": {
     "slide_type": "subslide"
    }
   },
   "outputs": [],
   "source": [
    "def plot_Gstar(ticker,G1,B,T):\n",
    "    G2=np.dot(B,G1)+G1\n",
    "    G3=G2+np.dot(np.dot(B,B),G1)\n",
    "    G4=G3+np.dot(np.dot(np.dot(B,B),B),G1)\n",
    "    G5=G4+np.dot(np.dot(np.dot(np.dot(B,B),B),B),G1)\n",
    "    G6=G5+np.dot(np.dot(np.dot(np.dot(np.dot(B,B),B),B),B),G1)\n",
    "    plt.plot(imb,np.linspace(-0.005,0.005,n_imb)*0,label='Mid adj',marker='o')\n",
    "    plt.plot(imb,np.linspace(-0.005,0.005,n_imb),label='Weighted mid adj',marker='o')\n",
    "    for i in range(0,n_spread):\n",
    "        plt.plot(imb,G6[(0+i*n_imb):(n_imb+i*n_imb)],label=\"spread = \"+str(i+1)+\" tick adj\",marker='o')\n",
    "    plt.ylim(-0.005,0.005)\n",
    "    plt.legend(loc='upper left')\n",
    "    plt.title(ticker+' adjustments')\n",
    "    plt.xlabel('Imbalance')\n",
    "    return G6"
   ]
  },
  {
   "cell_type": "markdown",
   "metadata": {
    "slideshow": {
     "slide_type": "subslide"
    }
   },
   "source": [
    "# BAC"
   ]
  },
  {
   "cell_type": "code",
   "execution_count": 9,
   "metadata": {
    "slideshow": {
     "slide_type": "subslide"
    }
   },
   "outputs": [
    {
     "name": "stdout",
     "output_type": "stream",
     "text": [
      "(1041504, 16)\n"
     ]
    }
   ],
   "source": [
    "n_imb=10\n",
    "n_spread=2\n",
    "dt=1\n",
    "data=get_df('BAC') \n",
    "ticker='BAC'\n",
    "pd.set_option('mode.chained_assignment', None)\n",
    "import warnings\n",
    "warnings.simplefilter(action='ignore', category=UserWarning)\n",
    "T,ticksize=prep_data_sym(data,n_imb,dt,n_spread)\n",
    "print(T.shape)"
   ]
  },
  {
   "cell_type": "code",
   "execution_count": 10,
   "metadata": {
    "slideshow": {
     "slide_type": "subslide"
    }
   },
   "outputs": [
    {
     "data": {
      "image/png": "[encoded data removed]",
      "text/plain": [
       "<Figure size 432x288 with 1 Axes>"
      ]
     },
     "metadata": {
      "needs_background": "light"
     },
     "output_type": "display_data"
    }
   ],
   "source": [
    "imb=np.linspace(0,1,n_imb)\n",
    "G1,B,Q,Q2,R1,R2,K=estimate(T)\n",
    "G6=plot_Gstar(ticker,G1,B,T)"
   ]
  },
  {
   "cell_type": "code",
   "execution_count": 11,
   "metadata": {
    "slideshow": {
     "slide_type": "subslide"
    }
   },
   "outputs": [
    {
     "data": {
      "text/plain": [
       "Text(0.5, 0, 'Imbalance')"
      ]
     },
     "execution_count": 11,
     "metadata": {},
     "output_type": "execute_result"
    },
    {
     "data": {
      "image/png": "[encoded data removed]",
      "text/plain": [
       "<Figure size 432x288 with 1 Axes>"
      ]
     },
     "metadata": {
      "needs_background": "light"
     },
     "output_type": "display_data"
    }
   ],
   "source": [
    "W=np.linalg.matrix_power(B,100)\n",
    "for i in range(0,n_spread):\n",
    "    plt.plot(imb,W[0][(0+i*n_imb):(n_imb+i*n_imb)],label=\"spread = \"+str(i+1)+\" tick \",marker='o')\n",
    "    \n",
    "plt.legend(loc='upper left')\n",
    "plt.title('stationary distribution')\n",
    "plt.xlabel('Imbalance')"
   ]
  },
  {
   "cell_type": "markdown",
   "metadata": {
    "collapsed": true,
    "slideshow": {
     "slide_type": "subslide"
    }
   },
   "source": [
    "# CVX"
   ]
  },
  {
   "cell_type": "code",
   "execution_count": 12,
   "metadata": {},
   "outputs": [],
   "source": [
    "n_imb=4\n",
    "n_spread=4\n",
    "dt=1\n",
    "data=get_df('CVX') \n",
    "ticker='CVX'\n",
    "T,ticksize=prep_data_sym(data,n_imb,dt,n_spread)\n",
    "imb=np.linspace(0,1,n_imb)\n",
    "G1,B,Q,Q2,R1,R2,K=estimate(T)"
   ]
  },
  {
   "cell_type": "code",
   "execution_count": 13,
   "metadata": {
    "slideshow": {
     "slide_type": "subslide"
    }
   },
   "outputs": [
    {
     "data": {
      "image/png": "[encoded data removed]",
      "text/plain": [
       "<Figure size 432x288 with 1 Axes>"
      ]
     },
     "metadata": {
      "needs_background": "light"
     },
     "output_type": "display_data"
    }
   ],
   "source": [
    "G6=plot_Gstar(ticker,G1,B,T)"
   ]
  },
  {
   "cell_type": "code",
   "execution_count": 14,
   "metadata": {
    "slideshow": {
     "slide_type": "subslide"
    }
   },
   "outputs": [
    {
     "data": {
      "text/plain": [
       "Text(0.5, 0, 'Imbalance')"
      ]
     },
     "execution_count": 14,
     "metadata": {},
     "output_type": "execute_result"
    },
    {
     "data": {
      "image/png": "[encoded data removed]",
      "text/plain": [
       "<Figure size 432x288 with 1 Axes>"
      ]
     },
     "metadata": {
      "needs_background": "light"
     },
     "output_type": "display_data"
    }
   ],
   "source": [
    "W=np.linalg.matrix_power(B,100)\n",
    "for i in range(0,n_spread):\n",
    "    plt.plot(imb,W[0][(0+i*n_imb):(n_imb+i*n_imb)],label=\"spread = \"+str(i+1)+\" tick \",marker='o')\n",
    "    \n",
    "plt.legend(loc='upper left')\n",
    "plt.title('stationary distribution')\n",
    "plt.xlabel('Imbalance')"
   ]
  },
  {
   "cell_type": "markdown",
   "metadata": {
    "collapsed": true,
    "slideshow": {
     "slide_type": "subslide"
    }
   },
   "source": [
    "# Summary\n",
    "\n",
    "1. The micro-price is the expected mid-price in the distant future\n",
    "2. In practice, the distant future is adequately approximated by $\\tau^6$ the time of the 6th mid price move\n",
    "3. Paper provides evidence that the micro-price is a good predictor of future mid prices\n",
    "3. Micro-price can fit very different microstructures\n",
    "4. Micro-price is horizon independent\n",
    "5. Micro-price seems to live between the bid and the ask"
   ]
  }
 ],
 "metadata": {
  "celltoolbar": "Slideshow",
  "kernelspec": {
   "display_name": "Python 3",
   "language": "python",
   "name": "python3"
  },
  "language_info": {
   "codemirror_mode": {
    "name": "ipython",
    "version": 3
   },
   "file_extension": ".py",
   "mimetype": "text/x-python",
   "name": "python",
   "nbconvert_exporter": "python",
   "pygments_lexer": "ipython3",
   "version": "3.7.5"
  }
 },
 "nbformat": 4,
 "nbformat_minor": 1
}
