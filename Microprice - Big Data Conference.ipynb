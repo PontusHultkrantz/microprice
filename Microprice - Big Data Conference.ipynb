{
 "cells": [
  {
   "cell_type": "markdown",
   "metadata": {
    "collapsed": true,
    "slideshow": {
     "slide_type": "slide"
    }
   },
   "source": [
    "# The microprice\n",
    "\n",
    "An estimator of the fair price, given the state of the order book\n",
    "\n",
    "KISS\n",
    "\n",
    "https://papers.ssrn.com/sol3/papers.cfm?abstract_id=2970694"
   ]
  },
  {
   "cell_type": "markdown",
   "metadata": {
    "slideshow": {
     "slide_type": "subslide"
    }
   },
   "source": [
    "# Big question:\n",
    "\n",
    "What is the fair price, given the bid/ask prices and sizes?\n",
    "\n",
    "We will call this notion of fair price the microprice.\n",
    "\n",
    "This notion can be useful to algorithmic traders, HFT, market makers, etc..."
   ]
  },
  {
   "cell_type": "markdown",
   "metadata": {
    "slideshow": {
     "slide_type": "subslide"
    }
   },
   "source": [
    "# Definitions\n",
    "\n",
    "The bid, ask, bid size, ask size: $P^b, P^a, Q^b, Q^a$\n",
    "\n",
    "The mid-price: $$M=\\frac{P^b+P^a}{2}$$\n",
    "\n",
    "The weighted mid-price: $$M=P^b (1-I) +P^a I$$\n",
    "\n",
    "The imbalance: $$I=\\frac{Q_b}{Q_b+Q_a}$$\n",
    "\n",
    "The bid-ask spread: $$S=(P^a-P^b)$$"
   ]
  },
  {
   "cell_type": "code",
   "execution_count": 1,
   "metadata": {
    "slideshow": {
     "slide_type": "subslide"
    }
   },
   "outputs": [],
   "source": [
    "import pandas as pd\n",
    "import numpy as np\n",
    "%matplotlib inline"
   ]
  },
  {
   "cell_type": "code",
   "execution_count": 2,
   "metadata": {},
   "outputs": [],
   "source": [
    "def get_raw_df(ticker):\n",
    "    file1 = '{}_20110301_20110331.csv'.format(ticker)\n",
    "    df = pd.read_csv(file1, header=None, names=['date','time','bid','bs','ask','as'])\n",
    "    df = df.dropna()\n",
    "    df[df.columns] = df[df.columns].astype(float)\n",
    "    \n",
    "    date = pd.to_datetime(df['date'], unit='D', origin='1899-12-30', cache=True) # From Excel date format.\n",
    "    seconds = pd.to_timedelta(df['time'], unit='seconds')\n",
    "    df.insert(loc=0, column='timestamp', value= date + seconds)\n",
    "    return df\n",
    "    \n",
    "def extend_fields(df):\n",
    "    df['mid'] = 0.5 * (df['bid'] + df['ask'])\n",
    "    df['imb']= df['bs'] / (df['bs'] + df['as'])\n",
    "    df['wmid']= df['ask'] * df['imb'] + df['bid'] * (1-df['imb'])\n",
    "    return df\n",
    "\n",
    "def get_df(ticker):\n",
    "    return get_raw_df(ticker).pipe(extend_fields)"
   ]
  },
  {
   "cell_type": "code",
   "execution_count": 3,
   "metadata": {
    "slideshow": {
     "slide_type": "subslide"
    }
   },
   "outputs": [
    {
     "data": {
      "text/html": [
       "<div>\n",
       "<style scoped>\n",
       "    .dataframe tbody tr th:only-of-type {\n",
       "        vertical-align: middle;\n",
       "    }\n",
       "\n",
       "    .dataframe tbody tr th {\n",
       "        vertical-align: top;\n",
       "    }\n",
       "\n",
       "    .dataframe thead th {\n",
       "        text-align: right;\n",
       "    }\n",
       "</style>\n",
       "<table border=\"1\" class=\"dataframe\">\n",
       "  <thead>\n",
       "    <tr style=\"text-align: right;\">\n",
       "      <th></th>\n",
       "      <th>timestamp</th>\n",
       "      <th>date</th>\n",
       "      <th>time</th>\n",
       "      <th>bid</th>\n",
       "      <th>bs</th>\n",
       "      <th>ask</th>\n",
       "      <th>as</th>\n",
       "      <th>mid</th>\n",
       "      <th>imb</th>\n",
       "      <th>wmid</th>\n",
       "    </tr>\n",
       "  </thead>\n",
       "  <tbody>\n",
       "    <tr>\n",
       "      <th>0</th>\n",
       "      <td>2011-03-01 09:30:21</td>\n",
       "      <td>40603.0</td>\n",
       "      <td>34221.0</td>\n",
       "      <td>14.33</td>\n",
       "      <td>8.0</td>\n",
       "      <td>14.34</td>\n",
       "      <td>468.0</td>\n",
       "      <td>14.335</td>\n",
       "      <td>0.016807</td>\n",
       "      <td>14.330168</td>\n",
       "    </tr>\n",
       "    <tr>\n",
       "      <th>1</th>\n",
       "      <td>2011-03-01 09:30:22</td>\n",
       "      <td>40603.0</td>\n",
       "      <td>34222.0</td>\n",
       "      <td>14.33</td>\n",
       "      <td>20.0</td>\n",
       "      <td>14.34</td>\n",
       "      <td>471.0</td>\n",
       "      <td>14.335</td>\n",
       "      <td>0.040733</td>\n",
       "      <td>14.330407</td>\n",
       "    </tr>\n",
       "    <tr>\n",
       "      <th>2</th>\n",
       "      <td>2011-03-01 09:30:23</td>\n",
       "      <td>40603.0</td>\n",
       "      <td>34223.0</td>\n",
       "      <td>14.33</td>\n",
       "      <td>25.0</td>\n",
       "      <td>14.34</td>\n",
       "      <td>148.0</td>\n",
       "      <td>14.335</td>\n",
       "      <td>0.144509</td>\n",
       "      <td>14.331445</td>\n",
       "    </tr>\n",
       "    <tr>\n",
       "      <th>3</th>\n",
       "      <td>2011-03-01 09:30:24</td>\n",
       "      <td>40603.0</td>\n",
       "      <td>34224.0</td>\n",
       "      <td>14.33</td>\n",
       "      <td>31.0</td>\n",
       "      <td>14.34</td>\n",
       "      <td>95.0</td>\n",
       "      <td>14.335</td>\n",
       "      <td>0.246032</td>\n",
       "      <td>14.332460</td>\n",
       "    </tr>\n",
       "    <tr>\n",
       "      <th>4</th>\n",
       "      <td>2011-03-01 09:30:25</td>\n",
       "      <td>40603.0</td>\n",
       "      <td>34225.0</td>\n",
       "      <td>14.33</td>\n",
       "      <td>29.0</td>\n",
       "      <td>14.34</td>\n",
       "      <td>92.0</td>\n",
       "      <td>14.335</td>\n",
       "      <td>0.239669</td>\n",
       "      <td>14.332397</td>\n",
       "    </tr>\n",
       "  </tbody>\n",
       "</table>\n",
       "</div>"
      ],
      "text/plain": [
       "            timestamp     date     time    bid    bs    ask     as     mid  \\\n",
       "0 2011-03-01 09:30:21  40603.0  34221.0  14.33   8.0  14.34  468.0  14.335   \n",
       "1 2011-03-01 09:30:22  40603.0  34222.0  14.33  20.0  14.34  471.0  14.335   \n",
       "2 2011-03-01 09:30:23  40603.0  34223.0  14.33  25.0  14.34  148.0  14.335   \n",
       "3 2011-03-01 09:30:24  40603.0  34224.0  14.33  31.0  14.34   95.0  14.335   \n",
       "4 2011-03-01 09:30:25  40603.0  34225.0  14.33  29.0  14.34   92.0  14.335   \n",
       "\n",
       "        imb       wmid  \n",
       "0  0.016807  14.330168  \n",
       "1  0.040733  14.330407  \n",
       "2  0.144509  14.331445  \n",
       "3  0.246032  14.332460  \n",
       "4  0.239669  14.332397  "
      ]
     },
     "execution_count": 3,
     "metadata": {},
     "output_type": "execute_result"
    }
   ],
   "source": [
    "data=get_df('BAC')[0:100]\n",
    "data.head()"
   ]
  },
  {
   "cell_type": "code",
   "execution_count": 4,
   "metadata": {
    "slideshow": {
     "slide_type": "subslide"
    }
   },
   "outputs": [
    {
     "data": {
      "text/plain": [
       "<matplotlib.axes._subplots.AxesSubplot at 0x1e729bb00c8>"
      ]
     },
     "execution_count": 4,
     "metadata": {},
     "output_type": "execute_result"
    },
    {
     "data": {
      "image/png": "[encoded data removed]",
      "text/plain": [
       "<Figure size 432x288 with 1 Axes>"
      ]
     },
     "metadata": {
      "needs_background": "light"
     },
     "output_type": "display_data"
    }
   ],
   "source": [
    "data[['bid','ask','mid','wmid']].plot()"
   ]
  },
  {
   "cell_type": "markdown",
   "metadata": {
    "slideshow": {
     "slide_type": "subslide"
    }
   },
   "source": [
    "# The mid vs. the weighted mid\n",
    "\n",
    "The mid-price:\n",
    "- Not a martingale (Bid-ask bounce)\n",
    "- Medium frequency signal \n",
    "- Doesn't use volume at the best bid and ask prices. \n",
    "\n",
    "The weighted mid-price:\n",
    "- Uses the volume at the best bid and ask prices.\n",
    "- High frequency signal\n",
    "- Is quite noisy, particularly when the spread widens to two ticks\n"
   ]
  },
  {
   "cell_type": "markdown",
   "metadata": {
    "slideshow": {
     "slide_type": "subslide"
    }
   },
   "source": [
    "# Desirable features of the Micro-Price\n",
    "\n",
    " $P_t^{micro}=F(M_t,I_t,S_t) = M_t+ G(I_t,S_t)$ \n",
    "- Martingale\n",
    "- Computationally fast\n",
    "- Better short term price predictions than the midprice or weighted midprice\n",
    "- Should work for large tick stocks (like BAC) or small tick stocks (like CVX)"
   ]
  },
  {
   "cell_type": "markdown",
   "metadata": {
    "slideshow": {
     "slide_type": "subslide"
    }
   },
   "source": [
    "# Outline\n",
    "\n",
    "1. General definition\n",
    "2. A discrete Markov model\n",
    "3. Data analysis\n",
    "4. Conclusion"
   ]
  },
  {
   "cell_type": "markdown",
   "metadata": {
    "slideshow": {
     "slide_type": "slide"
    }
   },
   "source": [
    "# Micro-price definition\n",
    "\n",
    "Define\n",
    "\\begin{equation*}\n",
    "P_t^{micro}=\\lim_{n\\to\\infty} P_t^n\n",
    "\\end{equation*}\n",
    "where the approximating sequence of martingale prices is given by\n",
    "$$P^n_t=\\mathbb{E} \\left[  M_{\\tau_n} |  I_t,S_t \\right] $$\n",
    "\n",
    "$\\tau_1,...,\\tau_n$ are (random) times when the mid-price $M_t$ changes\n",
    " \n",
    "The micro-price is the expected mid-price in the distant future\n",
    " \n",
    "In practice, the distant future is well captured by $P_t^6$, the expected mid price after 6 price moves."
   ]
  },
  {
   "cell_type": "markdown",
   "metadata": {
    "slideshow": {
     "slide_type": "subslide"
    }
   },
   "source": [
    "# Main result\n",
    "\n",
    "\n",
    "The $i$-th approximation to the micro-price can be written as\n",
    "\\begin{equation*}\n",
    "P_t^{n} =  M_t + \\sum_{k=1}^{n}g^k(I_t,S_t) \n",
    "\\end{equation*}\n",
    "where\n",
    "$$g^1(I_t,S_t)= \\mathbb{E}  \\left[  M_{\\tau_1} - M_t  | I_t, S_t \\right] $$\n",
    "and\n",
    "$$\n",
    "g^{n+1}(I_t,S_t)= \\mathbb{E}\\left[ g^n(I_{\\tau_{1}},S_{\\tau_{1}}) | I_{t},S_t\\right], \\forall j\\geq 0\n",
    "$$\n",
    "can be computed recursively."
   ]
  },
  {
   "cell_type": "markdown",
   "metadata": {
    "slideshow": {
     "slide_type": "slide"
    }
   },
   "source": [
    "# Finite state Markov chain\n",
    "\n",
    "- The imbalance takes discrete values $1\\leq i_I \\leq n$, \n",
    "- The spread takes discrete values $1\\leq i_S \\leq m$\n",
    "- The mid-price changes takes values in $K =[-0.01 \\quad -0.005 \\quad 0.005 \\quad 0.01]$. \n",
    "- Define the state $X_t=(I_t,S_t)$ with discrete values $1\\leq i \\leq nm$"
   ]
  },
  {
   "cell_type": "markdown",
   "metadata": {
    "slideshow": {
     "slide_type": "subslide"
    }
   },
   "source": [
    "# Computing $g^1$\n",
    "\n",
    "The first step approximation to the micro-price \n",
    "\\begin{align*}\n",
    "g^1(i) = &  \\mathbb{E} \\left[M_{\\tau_{1}}- M_{t} | X_t= i \\right] \\\\\n",
    "= {}& \\big(1-Q\\big)^{-1}R^1\\underline{k}\n",
    "\\end{align*}\n",
    "\n",
    "Where\n",
    "$$Q_{ij} := \\mathbb{P}(M_{t+1}- M_t =0 \\wedge X_{t+1}=j | X_t= i)$$\n",
    "are the transition probabilities for transient states (mid price does not move) \n",
    "\n",
    "$$R^1_{ik} := \\mathbb{P}(M_{t+1}- M_t =k | X_t = i)$$ are the transition probabilities into absorbing states (mid price does move) \n",
    "\n",
    "and $\\underline{k}=[-0.01 \\quad -0.005 \\quad 0.005 \\quad 0.01]^T$ "
   ]
  },
  {
   "cell_type": "markdown",
   "metadata": {
    "slideshow": {
     "slide_type": "subslide"
    }
   },
   "source": [
    "# Computing $g^{i+1}$\n",
    "\n",
    "\n",
    "We can compute recursively\n",
    "\\begin{align*}\n",
    "g^{n+1}=  B g^n\n",
    "\\end{align*}\n",
    "where $B:=\\big(1-Q\\big)^{-1}R^2$\n",
    "\n",
    "and $R^2$ is a new matrix of absorbing states\n",
    "\\begin{align*}\n",
    "R^2_{ik} := {}& \\mathbb{P}(M_{t+1}- M_t \\neq 0 \\wedge I_{t+1}=k  | I_t = i)\n",
    "\\end{align*}"
   ]
  },
  {
   "cell_type": "markdown",
   "metadata": {
    "slideshow": {
     "slide_type": "subslide"
    }
   },
   "source": [
    "# Does the micro-price converge?\n",
    "\n",
    "Yes. But we have to appropriately symmetrize the data.\n",
    "\n",
    "Technical conditions are available in the paper."
   ]
  },
  {
   "cell_type": "markdown",
   "metadata": {
    "slideshow": {
     "slide_type": "slide"
    }
   },
   "source": [
    "# Data analysis on BAC and CVX"
   ]
  },
  {
   "cell_type": "markdown",
   "metadata": {
    "slideshow": {
     "slide_type": "subslide"
    }
   },
   "source": [
    "# Estimation\n",
    "\n",
    "1. On every quote, compute $I_t, S_t, (M_{t+1}-M_t)$, after having discretized the state space\n",
    "2. Symmetrize the data, by making a copy where $I^2_t=n-I_t, S^2_t=S_t, (M^2_{t+1}-M^2_t)=-(M_{t+1}-M_t)$\n",
    "3. Estimate transition probability matrices $Q, R^1, R^2$\n"
   ]
  },
  {
   "cell_type": "markdown",
   "metadata": {
    "slideshow": {
     "slide_type": "subslide"
    }
   },
   "source": [
    "# Computation\n",
    "\n",
    "Compute the first micro-price adjustment:\n",
    "$$p^{1}-M = g^1 = \\big(1-Q\\big)^{-1}R^1\\underline{k}$$\n",
    "Use our recursive formula to compute the 6th micro-price adjustment:\n",
    "$$p^{6}-M = g^1+g^2+ \\ldots +g^6 = g^1 + B g^1 + \\ldots + B^5 g^1 $$\n",
    "In practice this converges after 6 price moves"
   ]
  },
  {
   "cell_type": "code",
   "execution_count": 5,
   "metadata": {},
   "outputs": [],
   "source": [
    "from scipy.linalg import block_diag\n",
    "import matplotlib.pyplot as plt"
   ]
  },
  {
   "cell_type": "code",
   "execution_count": 6,
   "metadata": {
    "slideshow": {
     "slide_type": "subslide"
    }
   },
   "outputs": [],
   "source": [
    "def mirror_dynamics(df, n_imb):\n",
    "    ''' Mirror state of order book and price dynamics '''\n",
    "    dfm = df.copy(deep=True)\n",
    "    mid0 = df['mid'].iloc[0]\n",
    "    dfm[['bs', 'as']] = df[['as', 'bs']]\n",
    "    dfm[['bid', 'ask']] = 2 * mid0 - df[['ask', 'bid']]\n",
    "    dfm['imb'] = 1.0 - df['imb']\n",
    "    dfm['imb_bucket'] = (n_imb-1) - df['imb_bucket']\n",
    "    dfm['next_imb_bucket'] = (n_imb-1) - df['next_imb_bucket']\n",
    "    dfm['dM'] = -df['dM']\n",
    "    return dfm\n",
    "\n",
    "def prep_data_sym(data, n_imb, dt, n_spread):\n",
    "    ''' Discretize and symmetrize data '''\n",
    "    T = data.copy()\n",
    "    misc = {}\n",
    "\n",
    "    # ticksize:= min spread>0, 2 decimal places.\n",
    "    spread = T['ask'] - T['bid']\n",
    "    ticksize = np.round(min(spread.loc[spread>0]), 2)\n",
    "    misc['ticksize'] = ticksize\n",
    "    \n",
    "    # Spread is a multiple of ticksize (discretize)\n",
    "    T['spread'] = np.round((T['ask'] - T['bid']) / ticksize) * ticksize # find closest discrete tick.\n",
    "    T['mid'] = 0.5 * (T['bid'] + T['ask'])\n",
    "    # Filter out spreads that are outside discretized bounds. (wonky?)\n",
    "    LB, UB = (0, n_spread * ticksize)\n",
    "    mask = (LB < T['spread']) & (T['spread'] <= UB)\n",
    "    T = T.loc[mask]\n",
    "    T['imb'] = T['bs'] / (T['bs'] + T['as'])\n",
    "    \n",
    "    # Buckets must be symmetric around imb=0.5, due to mirroring the data and buckets later.\n",
    "    edges = np.linspace(0.0, 1.0, n_imb + 1)\n",
    "    #low_edge = np.amin([T['imb'].min(), 1.0-T['imb'].max()])\n",
    "    #edges = np.linspace(low_edge, 1.0 - low_edge, n_imb + 1)\n",
    "    T['imb_bucket'], bins = pd.cut(T['imb'], edges, include_lowest=True, retbins=True, labels=False)    \n",
    "    misc['imb_bucket_bins'] = bins\n",
    "    \n",
    "    # Step ahead state variables.\n",
    "    T[['next_mid', 'next_spread', 'next_time', 'next_imb_bucket']] = T[['mid', 'spread', 'time', 'imb_bucket']].shift(-dt)\n",
    "\n",
    "    # Step ahead change in mid price. Mid price has half a tick resolution 0.5*(bid + ask), when either bid or ask changes.\n",
    "    mid_tsize = 0.5 * ticksize\n",
    "    T['dM'] = np.round((T['next_mid'] - T['mid']) / mid_tsize) * mid_tsize\n",
    "    \n",
    "    # Numerical reason to cover the bound by epsilon factor?\n",
    "    mask = (T['dM'].abs() <= ticksize*1.1)\n",
    "    T = T.loc[mask]\n",
    "    \n",
    "    # Symetrize data => 2x data (I.e. assume same dynamics for up and down moves)\n",
    "    T2 = mirror_dynamics(T, n_imb)\n",
    "    T2['mirrored'] = True\n",
    "    T['mirrored'] = False\n",
    "    T3 = pd.concat([T, T2], axis=0, sort=False)\n",
    "    T3.reset_index(inplace=True, drop=True)    \n",
    "\n",
    "    return T3, misc"
   ]
  },
  {
   "cell_type": "code",
   "execution_count": 7,
   "metadata": {
    "slideshow": {
     "slide_type": "subslide"
    }
   },
   "outputs": [],
   "source": [
    "def full_stspace(T):\n",
    "    ''' Get all visited unique states. '''\n",
    "    def value_union(columns):\n",
    "        return np.sort(np.unique(T[columns].drop_duplicates().to_numpy().flatten()))\n",
    "\n",
    "    spread_states = value_union(columns=['spread', 'next_spread'])\n",
    "    imb_states = value_union(columns=['imb_bucket', 'next_imb_bucket'])\n",
    "    dM_states = np.sort(T['dM'].unique())\n",
    "    return {'spread':spread_states, 'imb_bucket':imb_states, 'dM':dM_states}\n",
    "\n",
    "def stspace_pd_index(stspace):\n",
    "    ''' Create Markov chain matrix DataFrame indices.'''\n",
    "    spr_imb = pd.MultiIndex.from_product([stspace['spread'], stspace['imb_bucket']], names=['spread', 'imb_bucket'])\n",
    "    nxt_spr_imb = spr_imb.copy().set_names(names=['next_spread', 'next_imb_bucket'])\n",
    "    dM = pd.Index(stspace['dM'], name='dM')\n",
    "    return {'spr_imb':spr_imb, 'nxt_spr_imb':nxt_spr_imb, 'dM':dM}\n",
    "\n",
    "def estimate(T):\n",
    "    st_idx = stspace_pd_index(full_stspace(T))\n",
    "\n",
    "    # === Transition matrix {spread, imb_bucket} → {next_spread, next_imb_bucket, mid_change} ===\n",
    "    # Get counts\n",
    "    trans = T.pivot_table(index=['spread', 'imb_bucket'], \n",
    "                     columns=['next_spread', 'next_imb_bucket', 'dM'], \n",
    "                     fill_value=0,\n",
    "                     aggfunc='size')\n",
    "    \n",
    "    # Get mean MLE estimates\n",
    "    trans = trans.divide(trans.sum(axis=1), axis=0)\n",
    "\n",
    "    # Mask for absorbed transitions (mid price change occurs)\n",
    "    absorb = trans.columns.get_level_values('dM') != 0.0\n",
    "    \n",
    "    # No absorb transitions, collapse (sum) mid change states {spread, imb_bucket} → {next_spread, next_imb_bucket, dM==0}.\n",
    "    Q = trans.loc[:, ~absorb].sum(axis=1, level=['next_spread', 'next_imb_bucket'])\n",
    "    Q = Q.reindex(index=st_idx['spr_imb'], columns=st_idx['nxt_spr_imb'], fill_value=0.0)\n",
    "\n",
    "    # Absorb transitions, collapse (sum) all but mid_change states {spread, imb_bucket} → {dM!=0}.\n",
    "    R1 = trans.loc[:, absorb].sum(axis=1, level=['dM'])\n",
    "    R1 = R1.reindex(index=st_idx['spr_imb'], columns=st_idx['dM'], fill_value=0.0)\n",
    "    SHOW_K0_STATE = False # Whether to show K=0 as a state (cosmetic)\n",
    "    if not SHOW_K0_STATE:\n",
    "        R1 = R1.loc[:, ~np.isclose(R1.columns.get_level_values('dM'), 0.0)]\n",
    "\n",
    "    # Absorb transitions, collapse (sum) all next_spreads and next_imb into one per dM {spread, imb_bucket} → {next_spread, next_imb_bucket, dM!=0}.\n",
    "    R2 = trans.loc[:, absorb].sum(axis=1, level=['next_spread', 'next_imb_bucket'])\n",
    "    R2 = R2.reindex(index=st_idx['spr_imb'], columns=st_idx['nxt_spr_imb'], fill_value=0.0)\n",
    "\n",
    "    # Jump sizes\n",
    "    K = st_idx['dM'].to_numpy()\n",
    "    if not SHOW_K0_STATE:\n",
    "        K = K[K!=0.0]\n",
    "    eye = np.eye(Q.shape[0])\n",
    "    G1 = np.linalg.inv(eye - Q) @ R1 @ K # inv() converts DataFrame into ndarray, so pandas index is gone here.\n",
    "    G1.index = Q.index # so we set it back.\n",
    "    B = np.linalg.inv(eye - Q) @ R2\n",
    "    B.index = Q.index\n",
    "    Q2 = Q.copy()\n",
    "    \n",
    "    return G1, B, Q, Q2, R1, R2, K"
   ]
  },
  {
   "cell_type": "code",
   "execution_count": 8,
   "metadata": {
    "slideshow": {
     "slide_type": "subslide"
    }
   },
   "outputs": [],
   "source": [
    "COLOR_CYCLE = plt.rcParams['axes.prop_cycle'].by_key()['color']\n",
    "\n",
    "def get_asymtotics(G1, B):\n",
    "    '''\n",
    "    P_k = M + sum_0^{k-1}(B^i) * G1\n",
    "    Gstar := lim(P_k - M)\n",
    "    '''\n",
    "    vv, ee = np.linalg.eig(B)\n",
    "    unit_idx = np.argmax(vv)\n",
    "    Bstar = np.real(np.outer(ee[:, unit_idx], np.linalg.inv(ee)[unit_idx]))\n",
    "    Bstar = pd.DataFrame(data=Bstar, index=B.index, columns=B.columns)\n",
    "    vv[unit_idx] = 0.0\n",
    "    vvgeosum = vv/(1 - vv)\n",
    "    #vvgeosum = (vv - vv**(order))/(1 - vv)\n",
    "    Gsum = ee @ np.diag(vvgeosum) @ np.linalg.inv(ee)\n",
    "    Gstar = (G1 + Gsum @ G1).to_numpy().real\n",
    "    Gstar = pd.Series(data=Gstar, index=G1.index)\n",
    "    return Gstar, Bstar\n",
    "\n",
    "def calc_price_adj(G1, B, order='stationary'):\n",
    "    ''' Calculate Price Adjustments.'''\n",
    "    if order == 'stationary':\n",
    "        return get_asymtotics(G1, B)\n",
    "    elif isinstance(order, int): # Crude method,.. if num issues, use the eigendecomp for non asymtotic.\n",
    "        Bstar = pd.DataFrame(data=mpow(B, order), index=B.index, columns=B.columns)\n",
    "        Gstar = sum(mpow(B, i) for i in range(order)) @ G1\n",
    "        Gstar = pd.Series(data=Gstar, index=B.index)\n",
    "        return Gstar, Bstar\n",
    "    else:\n",
    "        raise ValueError()\n",
    "    \n",
    "def plot_Gstar(ticker, Gstar, misc):\n",
    "    ''' Plot Micro Price Adjustment'''\n",
    "    bin_edges = misc['imb_bucket_bins']\n",
    "    bucket_mid = 0.5*(bin_edges[:-1] + bin_edges[1::])\n",
    "    \n",
    "    plt.figure()\n",
    "    plt.title('{} adjustments'.format(ticker))\n",
    "    \n",
    "    plt.plot([0, 1], [0, 0], label='Mid adj', color=COLOR_CYCLE[0])\n",
    "    plt.plot([0, 1], [-0.5, 0.5], label='Weighted mid adj', color=COLOR_CYCLE[1])\n",
    "    \n",
    "    for i, (sprd, grp) in enumerate(Gstar.groupby(level='spread')):\n",
    "        lbl = 'spread = {} tick'.format(i+1)\n",
    "        plt.plot(bucket_mid, grp / sprd, label=lbl, marker='o', linewidth=2.0, color=COLOR_CYCLE[2+i])\n",
    "        #y_step_edges = np.append(grp, grp[-1]) / sprd\n",
    "        #plt.step(bin_edges, y_step_edges, label=lbl, where='post', color=color_cycle[2+i])\n",
    "    \n",
    "    plt.ylim(-0.5, 0.5)\n",
    "    plt.yticks(np.linspace(-0.5, 0.5, 10+1))\n",
    "    plt.xlim([0, 1])\n",
    "    plt.xticks(np.linspace(0, 1, 10+1))\n",
    "    plt.legend(loc='upper left')\n",
    "    plt.xlabel('Imbalance')  \n",
    "    plt.ylabel('Price Adj norm. by spread')\n",
    "    plt.grid()\n",
    "    plt.show()\n",
    "    \n",
    "def plot_Bstar(B_pmf, misc):\n",
    "    ''' Plot stationary transition probability mass function '''\n",
    "    bin_edges = misc['imb_bucket_bins']\n",
    "    bucket_mid = 0.5*(bin_edges[:-1] + bin_edges[1::])\n",
    "\n",
    "    for i, (next_sprd, marginal_pdf) in enumerate(B_pmf.groupby(level='next_spread')):\n",
    "        lbl = '$s$ = {} tick'.format(i+1)\n",
    "        plt.plot(bucket_mid, marginal_pdf, label=lbl, marker='o', lw=0.5, color=COLOR_CYCLE[2+i])\n",
    "        plt.vlines(bucket_mid, 0, marginal_pdf, color=COLOR_CYCLE[2+i], lw=2.0)\n",
    "        ticks = next_sprd / misc['ticksize']\n",
    "        print('pmf(s = {:.0f} tick) = {:.2f}'.format(ticks, marginal_pdf.sum()))\n",
    "\n",
    "    plt.xlim([0, 1])\n",
    "    plt.xticks(np.linspace(0, 1, 11))\n",
    "\n",
    "    plt.legend(loc='upper left', fontsize=11)\n",
    "    plt.title('stationary transition $pmf(s, I)$')\n",
    "    plt.xlabel('Imbalance $I$', fontsize=11)\n",
    "    plt.ylabel('Density', fontsize=11)\n",
    "    plt.grid()\n",
    "    plt.show()    "
   ]
  },
  {
   "cell_type": "markdown",
   "metadata": {
    "slideshow": {
     "slide_type": "subslide"
    }
   },
   "source": [
    "# BAC"
   ]
  },
  {
   "cell_type": "code",
   "execution_count": 9,
   "metadata": {
    "slideshow": {
     "slide_type": "subslide"
    }
   },
   "outputs": [],
   "source": [
    "n_imb = 10\n",
    "n_spread = 2\n",
    "dt = 1\n",
    "data = get_df('BAC')\n",
    "ticker = 'BAC'\n",
    "T, misc = prep_data_sym(data, n_imb, dt, n_spread)"
   ]
  },
  {
   "cell_type": "code",
   "execution_count": 10,
   "metadata": {
    "slideshow": {
     "slide_type": "subslide"
    }
   },
   "outputs": [
    {
     "data": {
      "image/png": "[encoded data removed]",
      "text/plain": [
       "<Figure size 432x288 with 1 Axes>"
      ]
     },
     "metadata": {
      "needs_background": "light"
     },
     "output_type": "display_data"
    }
   ],
   "source": [
    "G1, B, Q, Q2, R1, R2, K = estimate(T)\n",
    "Gstar, Bstar = calc_price_adj(G1, B, order='stationary')\n",
    "plot_Gstar(ticker, Gstar, misc)"
   ]
  },
  {
   "cell_type": "code",
   "execution_count": 11,
   "metadata": {
    "slideshow": {
     "slide_type": "subslide"
    }
   },
   "outputs": [
    {
     "name": "stdout",
     "output_type": "stream",
     "text": [
      "pmf(s = 1 tick) = 0.69\n",
      "pmf(s = 2 tick) = 0.31\n"
     ]
    },
    {
     "data": {
      "image/png": "[encoded data removed]",
      "text/plain": [
       "<Figure size 432x288 with 1 Axes>"
      ]
     },
     "metadata": {
      "needs_background": "light"
     },
     "output_type": "display_data"
    }
   ],
   "source": [
    "Bstar_pdf = Bstar.iloc[0]  # ~= np.linalg.matrix_power(B,10).iloc[0]\n",
    "Bstar_pdf = pd.Series(np.linalg.matrix_power(B, 5)[0], index=B.columns)\n",
    "plot_Bstar(Bstar_pdf, misc)"
   ]
  },
  {
   "cell_type": "markdown",
   "metadata": {
    "collapsed": true,
    "slideshow": {
     "slide_type": "subslide"
    }
   },
   "source": [
    "# CVX"
   ]
  },
  {
   "cell_type": "code",
   "execution_count": 12,
   "metadata": {},
   "outputs": [],
   "source": [
    "n_imb = 4\n",
    "n_spread = 4\n",
    "dt = 1\n",
    "data = get_df('CVX')\n",
    "ticker = 'CVX'\n",
    "T, misc = prep_data_sym(data, n_imb, dt, n_spread)"
   ]
  },
  {
   "cell_type": "code",
   "execution_count": 13,
   "metadata": {
    "slideshow": {
     "slide_type": "subslide"
    }
   },
   "outputs": [
    {
     "data": {
      "image/png": "[encoded data removed]",
      "text/plain": [
       "<Figure size 432x288 with 1 Axes>"
      ]
     },
     "metadata": {
      "needs_background": "light"
     },
     "output_type": "display_data"
    }
   ],
   "source": [
    "G1, B, Q, Q2, R1, R2, K = estimate(T)\n",
    "Gstar, Bstar = calc_price_adj(G1, B, order='stationary')\n",
    "plot_Gstar(ticker, Gstar, misc)"
   ]
  },
  {
   "cell_type": "code",
   "execution_count": 14,
   "metadata": {
    "slideshow": {
     "slide_type": "subslide"
    }
   },
   "outputs": [
    {
     "name": "stdout",
     "output_type": "stream",
     "text": [
      "pmf(s = 1 tick) = 0.23\n",
      "pmf(s = 2 tick) = 0.40\n",
      "pmf(s = 3 tick) = 0.27\n",
      "pmf(s = 4 tick) = 0.10\n"
     ]
    },
    {
     "data": {
      "image/png": "[encoded data removed]",
      "text/plain": [
       "<Figure size 432x288 with 1 Axes>"
      ]
     },
     "metadata": {
      "needs_background": "light"
     },
     "output_type": "display_data"
    }
   ],
   "source": [
    "Bstar_pdf = Bstar.iloc[0]  # ~= np.linalg.matrix_power(B,10).iloc[0]\n",
    "plot_Bstar(Bstar_pdf, misc)"
   ]
  },
  {
   "cell_type": "markdown",
   "metadata": {
    "collapsed": true,
    "slideshow": {
     "slide_type": "subslide"
    }
   },
   "source": [
    "# Summary\n",
    "\n",
    "1. The micro-price is the expected mid-price in the distant future\n",
    "2. In practice, the distant future is adequately approximated by $\\tau^6$ the time of the 6th mid price move\n",
    "3. Paper provides evidence that the micro-price is a good predictor of future mid prices\n",
    "3. Micro-price can fit very different microstructures\n",
    "4. Micro-price is horizon independent\n",
    "5. Micro-price seems to live between the bid and the ask"
   ]
  }
 ],
 "metadata": {
  "celltoolbar": "Slideshow",
  "kernelspec": {
   "display_name": "Python 3",
   "language": "python",
   "name": "python3"
  },
  "language_info": {
   "codemirror_mode": {
    "name": "ipython",
    "version": 3
   },
   "file_extension": ".py",
   "mimetype": "text/x-python",
   "name": "python",
   "nbconvert_exporter": "python",
   "pygments_lexer": "ipython3",
   "version": "3.7.5"
  }
 },
 "nbformat": 4,
 "nbformat_minor": 1
}
