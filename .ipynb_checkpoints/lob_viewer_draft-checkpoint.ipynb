{
 "cells": [
  {
   "cell_type": "markdown",
   "id": "adaptive-april",
   "metadata": {},
   "source": [
    "# Bitmex Top 10 level feed"
   ]
  },
  {
   "cell_type": "markdown",
   "id": "defensive-beverage",
   "metadata": {},
   "source": [
    "## Read data, 08:00-10:00"
   ]
  },
  {
   "cell_type": "code",
   "execution_count": 1,
   "id": "veterinary-ethics",
   "metadata": {},
   "outputs": [],
   "source": [
    "import datetime, dateutil\n",
    "import numpy as np\n",
    "import gzip\n",
    "import pickle\n",
    "from matplotlib import pyplot as plt\n",
    "isoparse = dateutil.parser.isoparse\n",
    "\n",
    "def read_file_lob(src, is_gzip=False):\n",
    "    def load_archive(hnd):\n",
    "        data = []\n",
    "        try:\n",
    "            while True:\n",
    "                dd = pickle.load(f)\n",
    "                dd = dd['data'][0]\n",
    "                if int(dd['timestamp'][11:13]) < 9:\n",
    "                    pass\n",
    "                else:\n",
    "                    if int(dd['timestamp'][11:13]) > 12:\n",
    "                        return data\n",
    "                    tpl = [dd['timestamp'], dd['bids'], dd['asks']]\n",
    "                    data.append(tpl)\n",
    "        except EOFError:\n",
    "            print('End of File')\n",
    "        return data\n",
    "    \n",
    "    if is_gzip:\n",
    "        with gzip.open(src, 'rb') as f:\n",
    "            return load_archive(f)\n",
    "    else:\n",
    "        with open(src, 'rb') as f:\n",
    "            return load_archive(f)"
   ]
  },
  {
   "cell_type": "code",
   "execution_count": 2,
   "id": "underlying-astronomy",
   "metadata": {},
   "outputs": [],
   "source": [
    "src = r\"C:\\temp\\bitmexdata\\2021-04-02%XBTUSD%orderBook10.pklgz\"    \n",
    "data = read_file_lob(src, is_gzip=True)"
   ]
  },
  {
   "cell_type": "code",
   "execution_count": null,
   "id": "valid-oxygen",
   "metadata": {},
   "outputs": [],
   "source": []
  },
  {
   "cell_type": "code",
   "execution_count": 3,
   "id": "damaged-laundry",
   "metadata": {},
   "outputs": [],
   "source": [
    "tstamp = [isoparse(x[0]) for x in data]\n",
    "\n",
    "SCNDS = datetime.timedelta(seconds=1)\n",
    "def sec_elapsed(t0, t):\n",
    "    return (t - t0) / SCNDS\n",
    "\n",
    "tstamp0 = tstamp[0]\n",
    "tstamp = np.array([sec_elapsed(tstamp0, t) for t in tstamp])\n",
    "\n",
    "bb = np.array([x[1] for x in data])\n",
    "bo = np.array([x[2] for x in data])\n",
    "mid = 0.5*(bb[:,0,0] + bo[:,0,0])\n",
    "sprd = bo[:,0,0] - bb[:,0,0]\n",
    "bbo_size = (bb[:,0,1] + bo[:,0,1])\n",
    "bbo_imb = bb[:,0,1] / bbo_size"
   ]
  },
  {
   "cell_type": "markdown",
   "id": "declared-heart",
   "metadata": {},
   "source": [
    "### Plot LOB during state changes"
   ]
  },
  {
   "cell_type": "code",
   "execution_count": 4,
   "id": "three-military",
   "metadata": {},
   "outputs": [
    {
     "data": {
      "image/png": "[encoded data removed]",
      "text/plain": [
       "<Figure size 720x360 with 2 Axes>"
      ]
     },
     "metadata": {
      "needs_background": "light"
     },
     "output_type": "display_data"
    }
   ],
   "source": [
    "## Mid change\n",
    "ipre = np.diff(mid).nonzero()[0]\n",
    "## Mid change + BB change + BO change\n",
    "#ipre = ((np.diff(mid) != 0) & (np.diff(bb[:,0,0]) != 0.0) & (np.diff(bo[:,0,0]) != 0.0)).nonzero()[0]\n",
    "\n",
    "ipost = ipre + 1 # compare with following data point.\n",
    "\n",
    "j = 70 # Pick which observation to view.\n",
    "t0 = ipre[j]\n",
    "t1 = ipost[j]\n",
    "\n",
    "price_offset = mid[t0]\n",
    "\n",
    "\n",
    "ticksize = 0.5\n",
    "bb_ref = bb[t0, 0, 0]\n",
    "def norm_bid(prices):\n",
    "    return (prices - bb_ref) / ticksize\n",
    "\n",
    "bo_ref = bo[t0, 0, 0]\n",
    "def norm_ask(prices):\n",
    "    return (prices - bb_ref) / ticksize\n",
    "\n",
    "fig, axs = plt.subplots(2,1, figsize=(10,5), sharex=False)\n",
    "axs[0].bar(norm_bid(bb[t0, :, 0]), bb[t0, :, 1], color='g')\n",
    "axs[0].bar(norm_ask(bo[t0, :, 0]), bo[t0, :, 1], color='r')\n",
    "axs[1].bar(norm_bid(bb[t1, :, 0]), bb[t1, :, 1], color='g')\n",
    "axs[1].bar(norm_ask(bo[t1, :, 0]), bo[t1, :, 1], color='r')\n",
    "\n",
    "rel_imb = bbo_imb[t0], bbo_imb[t1]\n",
    "\n",
    "\n",
    "lbound = min(norm_bid(bb[t0, :, 0]).max(), norm_bid(bb[t1, :, 0]).max())\n",
    "ubound = max(norm_bid(bo[t0, :, 0]).min(), norm_bid(bo[t1, :, 0]).min())\n",
    "\n",
    "for ax in axs:\n",
    "    #ax.set_xlim([-4, 5 + max(sprd[t0], sprd[t1])/ticksize])\n",
    "    ax.set_xlim([lbound-3, ubound+3])\n",
    "    ax.set_yscale('log')\n",
    "    start, end = ax.get_xlim()\n",
    "    ax.xaxis.set_ticks(np.arange(start, end, 1))\n",
    "    ax.grid()\n",
    "fig.suptitle('LOB state before and after mid jump')\n",
    "axs[0].set_title(f'Before (imb={rel_imb[0]:.2f})')\n",
    "axs[1].set_title(f'After (imb={rel_imb[1]:.2f})')\n",
    "axs[1].set_xlabel('Price level [relative ticks]')\n",
    "fig.tight_layout()"
   ]
  },
  {
   "cell_type": "code",
   "execution_count": 5,
   "id": "grateful-nurse",
   "metadata": {},
   "outputs": [
    {
     "name": "stdout",
     "output_type": "stream",
     "text": [
      "59499.5 59500.5\n",
      "59499.5 59500.5\n",
      "59499.5 59500.0\n"
     ]
    }
   ],
   "source": [
    "print(bb[t0-1, 0, 0], bo[t0-1, 0, 0])\n",
    "print(bb[t0, 0, 0], bo[t0, 0, 0])\n",
    "print(bb[t1, 0, 0], bo[t1, 0, 0])"
   ]
  },
  {
   "cell_type": "code",
   "execution_count": 6,
   "id": "friendly-stylus",
   "metadata": {},
   "outputs": [
    {
     "data": {
      "text/plain": [
       "<matplotlib.collections.PathCollection at 0x2c53ad511f0>"
      ]
     },
     "execution_count": 6,
     "metadata": {},
     "output_type": "execute_result"
    },
    {
     "data": {
      "image/png": "[encoded data removed]",
      "text/plain": [
       "<Figure size 432x288 with 2 Axes>"
      ]
     },
     "metadata": {
      "needs_background": "light"
     },
     "output_type": "display_data"
    },
    {
     "data": {
      "image/png": "[encoded data removed]",
      "text/plain": [
       "<Figure size 432x288 with 1 Axes>"
      ]
     },
     "metadata": {
      "needs_background": "light"
     },
     "output_type": "display_data"
    }
   ],
   "source": [
    "fig, ax = plt.subplots()\n",
    "h = ax.hist2d(bbo_imb[ipre], bbo_imb[ipost], bins=10, density=False, cmap=plt.cm.jet)\n",
    "fig.colorbar(h[3], ax=ax)\n",
    "\n",
    "plt.figure()\n",
    "plt.scatter(bbo_imb[ipre], bbo_imb[ipost], marker='.')"
   ]
  },
  {
   "cell_type": "markdown",
   "id": "young-standard",
   "metadata": {},
   "source": [
    "## Convert full LOB to relative (maybe not needed)"
   ]
  },
  {
   "cell_type": "code",
   "execution_count": 7,
   "id": "compound-unknown",
   "metadata": {},
   "outputs": [],
   "source": [
    "bb_rel = np.zeros_like(bb[:,:,0])\n",
    "\n",
    "def lob_relative(lob, nmax=10, ticksize=0.5):\n",
    "    ntick = int(1/ticksize)\n",
    "    \n",
    "    new_arr = np.zeros((lob.shape[0], nmax))\n",
    "    for t in range(len(lob)):\n",
    "        prices = lob[t,:,0]\n",
    "        volumes = lob[t,:,1]\n",
    "        priceIdx = np.abs(prices - prices[0])*ntick # price to ticks\n",
    "        priceIdx = priceIdx.astype(int)\n",
    "        idx = (priceIdx < nmax).nonzero()\n",
    "        new_arr[t, priceIdx[idx]] = volumes[idx]\n",
    "    return new_arr\n",
    "\n",
    "# Align levels to ticks away from BBO, i.e volumes at 0 1 2 3 ticks away from top of book.\n",
    "bb_rel = lob_relative(bb)\n",
    "bo_rel = lob_relative(bo)"
   ]
  },
  {
   "cell_type": "markdown",
   "id": "apart-martial",
   "metadata": {},
   "source": [
    "## Plot Cummulative LOB"
   ]
  },
  {
   "cell_type": "code",
   "execution_count": 8,
   "id": "excellent-kingston",
   "metadata": {},
   "outputs": [
    {
     "data": {
      "text/plain": [
       "<matplotlib.collections.PolyCollection at 0x2c53ade10a0>"
      ]
     },
     "execution_count": 8,
     "metadata": {},
     "output_type": "execute_result"
    },
    {
     "data": {
      "image/png": "[encoded data removed]",
      "text/plain": [
       "<Figure size 720x360 with 1 Axes>"
      ]
     },
     "metadata": {
      "needs_background": "light"
     },
     "output_type": "display_data"
    }
   ],
   "source": [
    "from matplotlib import pyplot as plt\n",
    "plt.figure(figsize=(10,5))\n",
    "plt.fill_between(bb[0, :, 0], bb[0, :, 1][::-1].cumsum(), color='g', step='post')\n",
    "plt.fill_between(bo[0, :, 0], bo[0, :, 1].cumsum(), color='r', step='post')\n",
    "#plt.xlim([mid[0]-5, mid[0]+5])"
   ]
  },
  {
   "cell_type": "markdown",
   "id": "sorted-buying",
   "metadata": {},
   "source": [
    "## Replay LOB"
   ]
  },
  {
   "cell_type": "code",
   "execution_count": 9,
   "id": "coastal-anderson",
   "metadata": {},
   "outputs": [
    {
     "data": {
      "image/png": "[encoded data removed]",
      "text/plain": [
       "<Figure size 720x360 with 1 Axes>"
      ]
     },
     "metadata": {},
     "output_type": "display_data"
    },
    {
     "data": {
      "image/png": "[encoded data removed]",
      "text/plain": [
       "<Figure size 720x360 with 1 Axes>"
      ]
     },
     "metadata": {
      "needs_background": "light"
     },
     "output_type": "display_data"
    }
   ],
   "source": [
    "%matplotlib inline\n",
    "import time\n",
    "import pylab as pl\n",
    "from IPython import display\n",
    "plt.figure(figsize=(10,5))\n",
    "\n",
    "for i in range(5):\n",
    "    plt.clf()\n",
    "    plt.bar(bb[i, :, 0], bb[i, :, 1], color='g')\n",
    "    plt.bar(bo[i, :, 0], bo[i, :, 1], color='r')\n",
    "    plt.yscale('log')\n",
    "    display.clear_output(wait=True)\n",
    "    display.display(pl.gcf())\n",
    "    time.sleep(0.1)\n",
    "plt.show()"
   ]
  },
  {
   "cell_type": "markdown",
   "id": "ranking-jesus",
   "metadata": {},
   "source": [
    "## Read Trades"
   ]
  },
  {
   "cell_type": "code",
   "execution_count": 10,
   "id": "blond-chick",
   "metadata": {},
   "outputs": [],
   "source": [
    "import datetime, dateutil\n",
    "import numpy as np\n",
    "import gzip\n",
    "import pickle\n",
    "from matplotlib import pyplot as plt\n",
    "isoparse = dateutil.parser.isoparse\n",
    "\n",
    "def read_file_trades(src, is_gzip=False):\n",
    "    def load_archive(hnd):\n",
    "        data = []\n",
    "        try:\n",
    "            while True:\n",
    "                dd = pickle.load(f)\n",
    "                if int(dd['timeReceived'][11:13]) < 9:\n",
    "                    pass\n",
    "                else:\n",
    "                    if int(dd['timeReceived'][11:13]) > 12:\n",
    "                        return data\n",
    "                    for trd in dd['data']:\n",
    "                        subset = {key:trd.get(key) for key in ['timestamp', 'side', 'size', 'price', 'tickDirection']}\n",
    "                        data.append(subset)\n",
    "        except EOFError:\n",
    "            print('End of File')\n",
    "        return data\n",
    "    \n",
    "    if is_gzip:\n",
    "        with gzip.open(src, 'rb') as f:\n",
    "            return load_archive(f)\n",
    "    else:\n",
    "        with open(src, 'rb') as f:\n",
    "            return load_archive(f)"
   ]
  },
  {
   "cell_type": "code",
   "execution_count": 11,
   "id": "surprised-census",
   "metadata": {},
   "outputs": [],
   "source": [
    "src = r\"C:\\temp\\bitmexdata\\2021-04-02%XBTUSD%trade.pklgz\"\n",
    "trades = read_file_trades(src, is_gzip=True)\n",
    "\n",
    "import pandas as pd\n",
    "df_trds = pd.DataFrame(trades)\n",
    "df_trds['timestamp'] = pd.to_datetime(df_trds['timestamp'])\n",
    "df_trds['time'] = (df_trds['timestamp'].dt.tz_localize(None) - tstamp0.replace(tzinfo=None)) / pd.Timedelta('1s')\n",
    "\n",
    "df_trds['size'] = np.where(df_trds['side']=='Buy', df_trds['size'], -df_trds['size'])\n",
    "df_trds.drop(inplace=True, columns=['side'])\n",
    "#import dateutil\n",
    "#isoparse = dateutil.parser.isoparse\n",
    "#for e in trades:\n",
    "#    e['timestamp'] = isoparse(e['timestamp']).replace(tzinfo=None)"
   ]
  },
  {
   "cell_type": "code",
   "execution_count": 12,
   "id": "determined-morgan",
   "metadata": {},
   "outputs": [],
   "source": [
    "df_trds['bb'] = np.where(df_trds['size']<0, df_trds['price'], np.nan)\n",
    "#df_trds['bb'] = df_trds['bb'].fillna(method='ffill')\n",
    "df_trds['bo'] = np.where(df_trds['size']>0, df_trds['price'], np.nan)\n",
    "#df_trds['bo'] = df_trds['bo'].fillna(method='ffill')"
   ]
  },
  {
   "cell_type": "code",
   "execution_count": 13,
   "id": "sweet-interface",
   "metadata": {},
   "outputs": [],
   "source": [
    "mb_mask = df_trds['size'] > 0\n",
    "ms_mask = df_trds['size'] < 0"
   ]
  },
  {
   "cell_type": "code",
   "execution_count": 14,
   "id": "after-zoning",
   "metadata": {},
   "outputs": [
    {
     "data": {
      "text/plain": [
       "<AxesSubplot:>"
      ]
     },
     "execution_count": 14,
     "metadata": {},
     "output_type": "execute_result"
    },
    {
     "data": {
      "image/png": "[encoded data removed]",
      "text/plain": [
       "<Figure size 432x288 with 1 Axes>"
      ]
     },
     "metadata": {
      "needs_background": "light"
     },
     "output_type": "display_data"
    }
   ],
   "source": [
    "plt.figure()\n",
    "df_trds[ (df_trds['size'] >0) & (df_trds['size'] < 100) ]['size'].hist(bins='auto')\n",
    "df_trds[ (df_trds['size'] <0) & (df_trds['size'] > -100) ]['size'].hist(bins='auto')\n",
    "#plt.xlim([-5000, 5000])"
   ]
  },
  {
   "cell_type": "code",
   "execution_count": 15,
   "id": "deadly-toolbox",
   "metadata": {},
   "outputs": [],
   "source": [
    "df_trds['bb_id'] = (df_trds[ df_trds['size'] < 0 ]['price'].diff() != 0.0).cumsum().astype(int)\n",
    "df_trds['bo_id'] = (df_trds[ df_trds['size'] > 0 ]['price'].diff() != 0.0).cumsum().astype(int)"
   ]
  },
  {
   "cell_type": "code",
   "execution_count": 16,
   "id": "rapid-miller",
   "metadata": {},
   "outputs": [
    {
     "data": {
      "text/plain": [
       "<pandas.core.groupby.generic.DataFrameGroupBy object at 0x000002C549790F70>"
      ]
     },
     "execution_count": 16,
     "metadata": {},
     "output_type": "execute_result"
    }
   ],
   "source": [
    "df_trds[df_trds['size'] > 0].groupby(['bo_id'])\n",
    "#TODO: group by bo_id, sum to get total volume transacted, match with LOB."
   ]
  },
  {
   "cell_type": "code",
   "execution_count": 17,
   "id": "necessary-kennedy",
   "metadata": {},
   "outputs": [],
   "source": [
    "#plt.step(tstamp, bb[:,0,1])\n",
    "#plt.step(df_trds[mb_mask]['time'], df_trds[mb_mask]['size'].cumsum())"
   ]
  }
 ],
 "metadata": {
  "kernelspec": {
   "display_name": "Python 3 (ipykernel)",
   "language": "python",
   "name": "python3"
  },
  "language_info": {
   "codemirror_mode": {
    "name": "ipython",
    "version": 3
   },
   "file_extension": ".py",
   "mimetype": "text/x-python",
   "name": "python",
   "nbconvert_exporter": "python",
   "pygments_lexer": "ipython3",
   "version": "3.9.1"
  }
 },
 "nbformat": 4,
 "nbformat_minor": 5
}
